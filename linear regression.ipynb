{
 "cells": [
  {
   "cell_type": "code",
   "execution_count": 13,
   "id": "098952de",
   "metadata": {},
   "outputs": [
    {
     "ename": "IndentationError",
     "evalue": "unindent does not match any outer indentation level (<tokenize>, line 18)",
     "output_type": "error",
     "traceback": [
      "\u001b[1;36m  File \u001b[1;32m<tokenize>:18\u001b[1;36m\u001b[0m\n\u001b[1;33m    return y_pred\u001b[0m\n\u001b[1;37m    ^\u001b[0m\n\u001b[1;31mIndentationError\u001b[0m\u001b[1;31m:\u001b[0m unindent does not match any outer indentation level\n"
     ]
    }
   ],
   "source": [
    "class Simple_Linear_regression():\n",
    "      \n",
    "    def fit(self,x,y):\n",
    "        self.x=x\n",
    "        self.y=y\n",
    "        self.x_mean=self.x.mean()\n",
    "        self.y_mean=self.y.mean()\n",
    "        # no need of loop, we are using numpy array --- refer numpy array operations\n",
    "        # covariance and variance\n",
    "        self.cov_x_y=(((self.x-self.x_mean)*(self.y-self.y_mean)).sum())/len(self.x) \n",
    "        self.var_x=(((self.x-self.x_mean)**2).sum())/len(self.x)\n",
    "        self.slop_val=self.cov_x_y/self.var_x\n",
    "        self.y_intercept=self.y_mean-(self.slop_val*self.x_mean)  \n",
    "   \n",
    "          \n",
    "    def predict(self,val):\n",
    "        y_pred=self.slop_val*val+self.y_intercept\n",
    "        return y_pred"
   ]
  },
  {
   "cell_type": "code",
   "execution_count": 18,
   "id": "9ffd4f27",
   "metadata": {},
   "outputs": [],
   "source": []
  },
  {
   "cell_type": "code",
   "execution_count": null,
   "id": "e6bab58b",
   "metadata": {},
   "outputs": [],
   "source": []
  }
 ],
 "metadata": {
  "kernelspec": {
   "display_name": "Python 3 (ipykernel)",
   "language": "python",
   "name": "python3"
  },
  "language_info": {
   "codemirror_mode": {
    "name": "ipython",
    "version": 3
   },
   "file_extension": ".py",
   "mimetype": "text/x-python",
   "name": "python",
   "nbconvert_exporter": "python",
   "pygments_lexer": "ipython3",
   "version": "3.11.4"
  }
 },
 "nbformat": 4,
 "nbformat_minor": 5
}
